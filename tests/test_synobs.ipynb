{
 "cells": [
  {
   "cell_type": "code",
   "execution_count": 1,
   "metadata": {},
   "outputs": [],
   "source": [
    "import synobs"
   ]
  },
  {
   "cell_type": "code",
   "execution_count": 3,
   "metadata": {},
   "outputs": [
    {
     "name": "stdout",
     "output_type": "stream",
     "text": [
      "WARNING: No beam values found. Assuming pixel as beam.\n"
     ]
    }
   ],
   "source": [
    "filename = '../cube_PA-20.0_inc25.0_tilt45.0_twist-15.0_MAPS.fits'\n",
    "\n",
    "Syncube = synobs.simulationcube(filename)"
   ]
  },
  {
   "cell_type": "code",
   "execution_count": 4,
   "metadata": {},
   "outputs": [
    {
     "name": "stdout",
     "output_type": "stream",
     "text": [
      "1.6986436005760408 1.6986436005760408\n",
      "Convolving the data with a 0.03\" x 0.03\" beam\n",
      "dpix is 0.00749999999999988, beam area is 0.0010197810319111185, conversion factor is 18.129440567309352\n",
      "Converting from JY/PIXEL to Jy/beam\n",
      "Conversion factor: 18.129440567309352\n"
     ]
    }
   ],
   "source": [
    "bmaj = 0.03 # arcsec\n",
    "case = 'MAPS'\n",
    "overwrite = True\n",
    "\n",
    "Syncube.synthetic_obs(bmaj=bmaj, case=case, overwrite=overwrite)"
   ]
  },
  {
   "cell_type": "code",
   "execution_count": null,
   "metadata": {},
   "outputs": [],
   "source": []
  }
 ],
 "metadata": {
  "kernelspec": {
   "display_name": "base",
   "language": "python",
   "name": "python3"
  },
  "language_info": {
   "codemirror_mode": {
    "name": "ipython",
    "version": 3
   },
   "file_extension": ".py",
   "mimetype": "text/x-python",
   "name": "python",
   "nbconvert_exporter": "python",
   "pygments_lexer": "ipython3",
   "version": "3.9.17"
  }
 },
 "nbformat": 4,
 "nbformat_minor": 2
}
